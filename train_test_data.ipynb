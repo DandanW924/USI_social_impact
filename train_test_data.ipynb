{
 "cells": [
  {
   "cell_type": "code",
   "execution_count": 1,
   "metadata": {
    "collapsed": false
   },
   "outputs": [],
   "source": [
    "import pandas as pd\n",
    "from sklearn.linear_model import LinearRegression, Ridge, RidgeCV, Lasso, LassoCV\n",
    "from sklearn.preprocessing import MinMaxScaler # Look at RF for package\n",
    "from sklearn.decomposition import PCA\n",
    "import numpy as np\n",
    "np.random.seed(20170301)"
   ]
  },
  {
   "cell_type": "markdown",
   "metadata": {},
   "source": [
    "# Zipcode train, test, predict data"
   ]
  },
  {
   "cell_type": "code",
   "execution_count": 2,
   "metadata": {
    "collapsed": false
   },
   "outputs": [],
   "source": [
    "# get 2013, 2014, and 2015 data for zipcode\n",
    "\n",
    "zip_2013 = pd.read_csv('outputs/pluto_fdny_dob_census_to_zipcode_2013.csv')\n",
    "zip_2014 = pd.read_csv('outputs/pluto_fdny_dob_census_to_zipcode_2014.csv')\n",
    "zip_2015 = pd.read_csv('outputs/pluto_fdny_dob_census_to_zipcode_2015.csv')"
   ]
  },
  {
   "cell_type": "code",
   "execution_count": 3,
   "metadata": {
    "collapsed": true
   },
   "outputs": [],
   "source": [
    "# Cleaning non-numeric columns\n",
    "# remove nan's and inf's (turn to 0)\n",
    "\n",
    "zip_2013.fillna(0, inplace=True)\n",
    "zip_2013 = zip_2013.replace(np.inf, 0)\n",
    "zip_2013 = zip_2013[~zip_2013['ZipCode'].isin(['0', 0])]    \n",
    "zip_2014.fillna(0, inplace=True)\n",
    "zip_2014 = zip_2014.replace(np.inf, 0)\n",
    "zip_2014 = zip_2014[~zip_2014['ZipCode'].isin(['0', 0])]\n",
    "zip_2015.fillna(0, inplace=True)\n",
    "zip_2015 = zip_2015.replace(np.inf, 0)\n",
    "zip_2015 = zip_2015[~zip_2015['ZipCode'].isin(['0', 0])]\n",
    "for i in ['geometry', 'AREA', 'total_gas_incidents']:\n",
    "    del zip_2013[i]\n",
    "    del zip_2014[i]\n",
    "    del zip_2015[i]\n",
    "   "
   ]
  },
  {
   "cell_type": "code",
   "execution_count": 4,
   "metadata": {
    "collapsed": false
   },
   "outputs": [],
   "source": [
    "# processing columns to be in the same order. \n",
    "# if 2014 does not have a column from 2013, \n",
    "# 0's will be filled for the entire column \n",
    "\n",
    "zip_cols_2013 = zip_2013.columns.tolist()\n",
    "for i in zip_cols_2013:\n",
    "    if i not in zip_2014.columns:\n",
    "        zip_2014[i] = 0.0\n",
    "        \n",
    "# place 2014 columns in the same order - droppping cols that did not appear in 2013.\n",
    "zip_2014 = zip_2014[zip_cols_2013]"
   ]
  },
  {
   "cell_type": "code",
   "execution_count": 5,
   "metadata": {
    "collapsed": false
   },
   "outputs": [],
   "source": [
    "# validation that zip code orders are the same for our train and test set\n",
    "\n",
    "for idx, i in enumerate(zip_2013.iloc[:,0].values):\n",
    "    if zip_2014.iloc[:,0].values[idx] != i:\n",
    "        print i\n",
    "\n",
    "for idx, i in enumerate(zip_2014.iloc[:,0].values):\n",
    "    if zip_2015.iloc[:,0].values[idx] != i:\n",
    "        print i"
   ]
  },
  {
   "cell_type": "code",
   "execution_count": 6,
   "metadata": {
    "collapsed": false
   },
   "outputs": [],
   "source": [
    "# X_train will be 2013 features, y_train will be 2013 gas_leaks_per_bldg_unit\n",
    "X_train_zip = zip_2013.iloc[:,1:-1].values\n",
    "y_train_zip = zip_2013.iloc[:,-1].values\n",
    "\n",
    "\n",
    "# min/max scalling of feature data\n",
    "min_max_scaler = MinMaxScaler()\n",
    "X_train_zip = min_max_scaler.fit_transform(X_train_zip)\n",
    "\n",
    "# X_test will be 2013 features, y_test will be 2014 gas_leaks_per_bldg_unit\n",
    "X_test_zip = X_train_zip\n",
    "y_test_zip = zip_2014.iloc[:,-1].values"
   ]
  },
  {
   "cell_type": "code",
   "execution_count": 7,
   "metadata": {
    "collapsed": false,
    "scrolled": true
   },
   "outputs": [],
   "source": [
    "# create prediction features and dependent variable - zip\n",
    "\n",
    "X_pred_zip = zip_2014.iloc[:,1:-1].values\n",
    "\n",
    "min_max_scaler = MinMaxScaler()\n",
    "X_pred_zip = min_max_scaler.fit_transform(X_pred_zip)\n",
    "\n",
    "y_pred_zip = zip_2015.iloc[:,-1].values\n"
   ]
  },
  {
   "cell_type": "code",
   "execution_count": 8,
   "metadata": {
    "collapsed": false
   },
   "outputs": [
    {
     "name": "stdout",
     "output_type": "stream",
     "text": [
      "(194, 720) (194, 720) (194, 720)\n"
     ]
    }
   ],
   "source": [
    "print X_train_zip.shape, X_test_zip.shape, X_pred_zip.shape"
   ]
  },
  {
   "cell_type": "code",
   "execution_count": 9,
   "metadata": {
    "collapsed": false
   },
   "outputs": [
    {
     "name": "stdout",
     "output_type": "stream",
     "text": [
      "(194,) (194,) (194,)\n"
     ]
    }
   ],
   "source": [
    "print y_train_zip.shape, y_test_zip.shape, y_pred_zip.shape"
   ]
  },
  {
   "cell_type": "code",
   "execution_count": 10,
   "metadata": {
    "collapsed": false
   },
   "outputs": [],
   "source": [
    "# naive model 2013 to predict 2014\n",
    "\n",
    "# y_test_zip - y_train_zip # calculate error"
   ]
  },
  {
   "cell_type": "markdown",
   "metadata": {},
   "source": [
    "# Tract train, test, predict data"
   ]
  },
  {
   "cell_type": "code",
   "execution_count": 11,
   "metadata": {
    "collapsed": true
   },
   "outputs": [],
   "source": [
    "# get 2013, 2014, and 2015 data for zipcode\n",
    "\n",
    "tract_2013 = pd.read_csv('outputs/pluto_fdny_dob_census_to_tract_2013.csv')\n",
    "tract_2014 = pd.read_csv('outputs/pluto_fdny_dob_census_to_tract_2014.csv')\n",
    "tract_2015 = pd.read_csv('outputs/pluto_fdny_dob_census_to_tract_2015.csv')"
   ]
  },
  {
   "cell_type": "code",
   "execution_count": 12,
   "metadata": {
    "collapsed": true
   },
   "outputs": [],
   "source": [
    "# Cleaning non-numeric columns\n",
    "# remove nan's and inf's (turn to 0)\n",
    "\n",
    "tract_2013.fillna(0, inplace=True)\n",
    "tract_2013 = tract_2013.replace(np.inf, 0)\n",
    "tract_2014.fillna(0, inplace=True)\n",
    "tract_2014 = tract_2013.replace(np.inf, 0)\n",
    "tract_2015.fillna(0, inplace=True)\n",
    "tract_2015 = tract_2015.replace(np.inf, 0)\n",
    "for i in ['NTACode', 'NTAName', 'geometry', 'ZipCode', 'total_gas_incidents', 'GEOID']:\n",
    "    del tract_2013[i]\n",
    "    del tract_2014[i]\n",
    "    del tract_2015[i]"
   ]
  },
  {
   "cell_type": "code",
   "execution_count": 13,
   "metadata": {
    "collapsed": true
   },
   "outputs": [],
   "source": [
    "# processing columns to be in the same order. \n",
    "# if 2014 does not have a column from 2013, \n",
    "# 0's will be filled for the entire column \n",
    "\n",
    "tract_cols_2013 = tract_2013.columns.tolist()\n",
    "for i in tract_cols_2013:\n",
    "    if i not in tract_2014.columns:\n",
    "        tract_2014[i] = 0.0\n",
    "        \n",
    "# place 2014 columns in the same order - droppping cols that did not appear in 2013.\n",
    "tract_2014 = tract_2014[tract_cols_2013]"
   ]
  },
  {
   "cell_type": "code",
   "execution_count": 14,
   "metadata": {
    "collapsed": true
   },
   "outputs": [],
   "source": [
    "# validation that tract orders are the same for our train, test, and predict sets\n",
    "\n",
    "for idx, i in enumerate(tract_2013.iloc[:,0].values):\n",
    "    if tract_2014.iloc[:,0].values[idx] != i:\n",
    "        print i\n",
    "\n",
    "for idx, i in enumerate(tract_2014.iloc[:,0].values):\n",
    "    if tract_2015.iloc[:,0].values[idx] != i:\n",
    "        print i"
   ]
  },
  {
   "cell_type": "code",
   "execution_count": 15,
   "metadata": {
    "collapsed": true
   },
   "outputs": [],
   "source": [
    "# X_train will be 2013 features, y_train will be 2013 gas_leaks_per_bldg_unit\n",
    "X_train_tract = tract_2013.iloc[:,1:-1].values\n",
    "y_train_tract = tract_2013.iloc[:,-1].values\n",
    "\n",
    "\n",
    "# min/max scalling of feature data\n",
    "min_max_scaler = MinMaxScaler()\n",
    "X_train_tract = min_max_scaler.fit_transform(X_train_tract)\n",
    "\n",
    "# X_test will be 2013 features, y_test will be 2014 gas_leaks_per_bldg_unit\n",
    "X_test_tract = X_train_tract\n",
    "y_test_tract = tract_2014.iloc[:,-1].values"
   ]
  },
  {
   "cell_type": "code",
   "execution_count": 16,
   "metadata": {
    "collapsed": false
   },
   "outputs": [],
   "source": [
    "# create prediction features and dependent variable - tract\n",
    "\n",
    "X_pred_tract = tract_2014.iloc[:,1:-1].values\n",
    "\n",
    "# scaling of features \n",
    "min_max_scaler = MinMaxScaler()\n",
    "X_pred_tract = min_max_scaler.fit_transform(X_pred_tract)\n",
    "\n",
    "y_pred_tract = tract_2015.iloc[:,-1].values"
   ]
  },
  {
   "cell_type": "code",
   "execution_count": 17,
   "metadata": {
    "collapsed": false
   },
   "outputs": [
    {
     "name": "stdout",
     "output_type": "stream",
     "text": [
      "(3180, 717) (3180, 717) (3180, 717)\n"
     ]
    }
   ],
   "source": [
    "print X_pred_tract.shape, X_train_tract.shape, X_test_tract.shape"
   ]
  },
  {
   "cell_type": "code",
   "execution_count": 18,
   "metadata": {
    "collapsed": false
   },
   "outputs": [
    {
     "name": "stdout",
     "output_type": "stream",
     "text": [
      "(3180,) (3180,) (3180,)\n"
     ]
    }
   ],
   "source": [
    "print y_train_tract.shape, y_test_tract.shape, y_pred_tract.shape"
   ]
  },
  {
   "cell_type": "code",
   "execution_count": null,
   "metadata": {
    "collapsed": true
   },
   "outputs": [],
   "source": []
  }
 ],
 "metadata": {
  "kernelspec": {
   "display_name": "Python 2",
   "language": "python",
   "name": "python2"
  },
  "language_info": {
   "codemirror_mode": {
    "name": "ipython",
    "version": 2
   },
   "file_extension": ".py",
   "mimetype": "text/x-python",
   "name": "python",
   "nbconvert_exporter": "python",
   "pygments_lexer": "ipython2",
   "version": "2.7.13"
  }
 },
 "nbformat": 4,
 "nbformat_minor": 2
}
